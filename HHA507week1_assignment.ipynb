{
  "nbformat": 4,
  "nbformat_minor": 0,
  "metadata": {
    "colab": {
      "provenance": [],
      "authorship_tag": "ABX9TyOz3oU/YyPpZ14AV12FXKip",
      "include_colab_link": true
    },
    "kernelspec": {
      "name": "python3",
      "display_name": "Python 3"
    },
    "language_info": {
      "name": "python"
    }
  },
  "cells": [
    {
      "cell_type": "markdown",
      "metadata": {
        "id": "view-in-github",
        "colab_type": "text"
      },
      "source": [
        "<a href=\"https://colab.research.google.com/github/joyc3lin/datasci_1_loading/blob/main/HHA507week1_assignment.ipynb\" target=\"_parent\"><img src=\"https://colab.research.google.com/assets/colab-badge.svg\" alt=\"Open In Colab\"/></a>"
      ]
    },
    {
      "cell_type": "code",
      "execution_count": 1,
      "metadata": {
        "id": "DG073ZuRcoES"
      },
      "outputs": [],
      "source": [
        "import pandas as pd"
      ]
    },
    {
      "cell_type": "code",
      "source": [
        "!pip freeze > packages.txt"
      ],
      "metadata": {
        "id": "VZOEJoyAzeLt"
      },
      "execution_count": 2,
      "outputs": []
    },
    {
      "cell_type": "markdown",
      "source": [
        "# **CSV Datasets**\n"
      ],
      "metadata": {
        "id": "YtVa6a4Fz1o7"
      }
    },
    {
      "cell_type": "code",
      "source": [],
      "metadata": {
        "id": "AzLeibrJz8_I"
      },
      "execution_count": null,
      "outputs": []
    },
    {
      "cell_type": "markdown",
      "source": [
        "# **XLSL Datasets**"
      ],
      "metadata": {
        "id": "0kmO8sXFz-xV"
      }
    },
    {
      "cell_type": "markdown",
      "source": [
        "# **JSON Datasets**"
      ],
      "metadata": {
        "id": "2jSTrPj00Hcg"
      }
    }
  ]
}